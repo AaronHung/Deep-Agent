{
 "cells": [
  {
   "cell_type": "markdown",
   "metadata": {},
   "source": [
    "preface\n",
    "\n",
    "My journey into the world of intelligent systems began back in the early 1980s. Like many people then, I believed artificial intelligence (AI) was just around the corner. It always seemed like one more innovation and technological leap would lead us to the intelligence we imagined. But that leap never came.\n",
    "\n",
    "Perhaps the promise of HAL, from Stanley Kubrick’s 2001: A Space Odyssey, captivated me with the idea of a truly intelligent computer companion. After years of effort, trial, and countless errors, I began to understand that creating AI was far more complex than we humans had imagined. In the early 1990s, I shifted my focus, applying my skills to more tangible goals in other industries.\n",
    "\n",
    "Not until the late 1990s, after experiencing a series of challenging and transformative events, did I realize my passion for building intelligent systems. I knew these systems might never reach the superintelligence of HAL, but I was okay with that. I found fulfillment in working with machine learning and data science, creating models that could learn and adapt. For more than 20 years, I thrived in this space, tackling problems that required creativity, precision, and a sense of possibility.\n",
    "\n",
    "During that time, I worked on everything from genetic algorithms for predicting unknown inputs to developing generative learning models for horizontal drilling in the oil-and-gas sector. These experiences led me to write, where I shared my knowledge by way of books on various topics—reverse-engineering Pokémon Go, building augmented and virtual reality experiences, designing audio for games, and applying reinforcement learning to create intelligent agents. I spent years knuckles-deep in code, developing agents in Unity ML-Agents and deep reinforcement learning.\n",
    "\n",
    "xiii xiv\n",
    "\n",
    "PREFACE\n",
    "\n",
    "Even then, I never imagined that one day I could simply describe what I wanted to an AI model, and it would make it happen. I never imagined that, in my lifetime, I would be able to collaborate with an AI as naturally as I do today. And I certainly never imagined how fast—and simultaneously how slow—this journey would feel.\n",
    "\n",
    "In November 2022, the release of ChatGPT changed everything. It changed the world’s perception of AI, and it changed the way we build intelligent systems. For me, it also altered my perspective on the capabilities of these systems. Suddenly, the idea of agents that could autonomously perform complex tasks wasn’t just a far-off dream but instead a tangible, achievable reality. In some of my earlier books, I had described agentic systems that could undertake specific tasks, but now, those once-theoretical ideas were within reach.\n",
    "\n",
    "This book is the culmination of my decades of experience in building intelligent systems, but it’s also a realization of the dreams I once had about what AI could become. AI agents are here, poised to transform how we interact with technology, how we work, and, ultimately, how we live.\n",
    "\n",
    "Yet, even now, I see hesitation from organizations when it comes to adopting agentic systems. I believe this hesitation stems not from fear of AI but rather from a lack of understanding and expertise in building these systems. I hope that this book helps to bridge that gap. I want to introduce AI agents as tools that can be accessible to everyone—tools we shouldn’t fear but instead respect, manage responsibly, and learn to work with in harmony."
   ]
  },
  {
   "cell_type": "markdown",
   "metadata": {},
   "source": [
    "### 總結\n",
    "\n",
    "作者回顧了自己從 1980 年代初期對人工智慧（AI）的興趣與探索歷程。他曾天真地以為 AI 的突破近在咫尺，但多年努力後才理解其複雜性，最終在 1990 年代轉向其他應用領域。然而，到了 1990 年代末，經歷一系列挑戰後，他重新燃起對智能系統的熱情，並在機器學習和數據科學領域深耕超過 20 年。\n",
    "\n",
    "在此期間，他參與了各種創新項目，如基因演算法預測、生成式學習模型應用於油氣鑽探等，並將自己的專業知識轉化為多本著作，涵蓋增強/虛擬實境、遊戲音效設計，以及強化學習的智能代理開發等。他長年專注於編碼與研發，未曾想過未來能直接與 AI 以自然語言合作。\n",
    "\n",
    "然而，2022 年 11 月 ChatGPT 的誕生改變了一切，不僅改變了世界對 AI 的看法，也徹底轉變了他對 AI 系統能力的理解。智能代理不再是遙不可及的夢想，而是已經實現的現實。他的許多過去理論探討的智能系統，如今已變得切實可行。\n",
    "\n",
    "儘管 AI 代理技術的潛力巨大，許多組織仍對其採用持保留態度。作者認為，這並非出於恐懼，而是源於對該技術的理解不足。因此，本書的目的是幫助彌合這一知識鴻溝，讓 AI 代理變成人人都能運用的工具，使人們以尊重、負責任的態度與 AI 共存並協作。"
   ]
  },
  {
   "cell_type": "markdown",
   "metadata": {},
   "source": []
  },
  {
   "cell_type": "markdown",
   "metadata": {},
   "source": [
    "AI Agents in Action is about building and working with intelligent agent systems—not just creating autonomous entities but also developing agents that can effectively tackle and solve real-world problems. The book starts with the basics of working with large language models (LLMs) to build assistants, multi-agent systems, and agentic behavioral agents. From there, it explores the key components of agentic systems: retrieval systems for knowledge and memory augmentation, action and tool usage, reasoning, planning, evaluation, and feedback. The book demonstrates how these components empower agents to perform a wide range of complex tasks through practical examples.\n",
    "\n",
    "This journey isn’t just about technology; it’s about reimagining how we approach problem solving. I hope this book inspires you to see intelligent agents as partners in innovation, capable of transforming ideas into actions in ways that were once thought impossible. Together, we’ll explore how AI can augment human potential, enabling us to achieve far more than we could alone.\n",
    "\n",
    "Who should read this book\n",
    "\n",
    "This book is for anyone curious about intelligent agents and how to develop agentic systems—whether you’re building your first helpful assistant or diving deeper into complex multi-agent systems. No prior experience with agents, agentic systems, prompt engineering, or working with LLMs is required. All you need is a basic understanding of Python and familiarity with GitHub repositories. My goal is to make these concepts accessible and engaging, empowering anyone who wants to explore the world of AI agents to do so with confidence.\n",
    "\n",
    "xvii xviii\n",
    "\n",
    "ABOUT THIS BOOK\n",
    "\n",
    "Whether you’re a developer, researcher, or hobbyist or are simply intrigued by the possibilities of AI, this book is for you. I hope that in these pages you’ll find inspiration, practical guidance, and a new appreciation for the remarkable potential of intelligent agents. Let this book guide understanding, creating, and unleashing the power of AI agents in action."
   ]
  },
  {
   "cell_type": "markdown",
   "metadata": {},
   "source": []
  },
  {
   "cell_type": "markdown",
   "metadata": {},
   "source": [
    "摘要總結\n",
    "《AI Agents in Action》探討如何構建和運用智能代理系統，不僅限於創建自主實體，還涵蓋開發能夠解決現實問題的智能代理。書中從大型語言模型（LLMs）的基礎知識入手，指導讀者如何建立助手、多代理系統，以及具有行為能力的智能代理。接著，書中深入解析智能代理系統的關鍵組成部分，如知識檢索與記憶增強、行動與工具使用、推理、規劃、評估與反饋等，並透過實例展示這些元素如何賦能代理執行複雜任務。\n",
    "\n",
    "這不僅是技術性的探索，更是對問題解決方式的全新思考。作者希望這本書能激發讀者視 AI 代理為創新夥伴，將想法轉化為行動，拓展人類潛能，實現過去被認為不可能的成就。\n",
    "\n",
    "適合讀者\n",
    "本書適合任何對智能代理和代理系統開發感興趣的人，無論是想建立第一個 AI 助手，還是深入研究多代理系統。讀者不需要有代理系統、提示工程（prompt engineering）或 LLMs 相關經驗，只需具備基礎 Python 知識和對 GitHub 的基本操作理解。\n",
    "\n",
    "無論你是開發者、研究人員、愛好者，或只是對 AI 可能性感到好奇，本書都將提供靈感與實用指導，幫助你理解、創造並釋放 AI 代理的強大潛力。"
   ]
  }
 ],
 "metadata": {
  "kernelspec": {
   "display_name": "ml-test1",
   "language": "python",
   "name": "python3"
  },
  "language_info": {
   "name": "python",
   "version": "3.11.8"
  }
 },
 "nbformat": 4,
 "nbformat_minor": 2
}
