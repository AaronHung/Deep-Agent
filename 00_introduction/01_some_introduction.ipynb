{
 "cells": [
  {
   "cell_type": "markdown",
   "metadata": {},
   "source": [
    "preface\n",
    "\n",
    "My journey into the world of intelligent systems began back in the early 1980s. Like many people then, I believed artificial intelligence (AI) was just around the corner. It always seemed like one more innovation and technological leap would lead us to the intelligence we imagined. But that leap never came.\n",
    "\n",
    "Perhaps the promise of HAL, from Stanley Kubrick’s 2001: A Space Odyssey, captivated me with the idea of a truly intelligent computer companion. After years of effort, trial, and countless errors, I began to understand that creating AI was far more complex than we humans had imagined. In the early 1990s, I shifted my focus, applying my skills to more tangible goals in other industries.\n",
    "\n",
    "Not until the late 1990s, after experiencing a series of challenging and transformative events, did I realize my passion for building intelligent systems. I knew these systems might never reach the superintelligence of HAL, but I was okay with that. I found fulfillment in working with machine learning and data science, creating models that could learn and adapt. For more than 20 years, I thrived in this space, tackling problems that required creativity, precision, and a sense of possibility.\n",
    "\n",
    "During that time, I worked on everything from genetic algorithms for predicting unknown inputs to developing generative learning models for horizontal drilling in the oil-and-gas sector. These experiences led me to write, where I shared my knowledge by way of books on various topics—reverse-engineering Pokémon Go, building augmented and virtual reality experiences, designing audio for games, and applying reinforcement learning to create intelligent agents. I spent years knuckles-deep in code, developing agents in Unity ML-Agents and deep reinforcement learning.\n",
    "\n",
    "xiii xiv\n",
    "\n",
    "PREFACE\n",
    "\n",
    "Even then, I never imagined that one day I could simply describe what I wanted to an AI model, and it would make it happen. I never imagined that, in my lifetime, I would be able to collaborate with an AI as naturally as I do today. And I certainly never imagined how fast—and simultaneously how slow—this journey would feel.\n",
    "\n",
    "In November 2022, the release of ChatGPT changed everything. It changed the world’s perception of AI, and it changed the way we build intelligent systems. For me, it also altered my perspective on the capabilities of these systems. Suddenly, the idea of agents that could autonomously perform complex tasks wasn’t just a far-off dream but instead a tangible, achievable reality. In some of my earlier books, I had described agentic systems that could undertake specific tasks, but now, those once-theoretical ideas were within reach.\n",
    "\n",
    "This book is the culmination of my decades of experience in building intelligent systems, but it’s also a realization of the dreams I once had about what AI could become. AI agents are here, poised to transform how we interact with technology, how we work, and, ultimately, how we live.\n",
    "\n",
    "Yet, even now, I see hesitation from organizations when it comes to adopting agentic systems. I believe this hesitation stems not from fear of AI but rather from a lack of understanding and expertise in building these systems. I hope that this book helps to bridge that gap. I want to introduce AI agents as tools that can be accessible to everyone—tools we shouldn’t fear but instead respect, manage responsibly, and learn to work with in harmony."
   ]
  },
  {
   "cell_type": "markdown",
   "metadata": {},
   "source": [
    "### 總結\n",
    "\n",
    "作者回顧了自己從 1980 年代初期對人工智慧（AI）的興趣與探索歷程。他曾天真地以為 AI 的突破近在咫尺，但多年努力後才理解其複雜性，最終在 1990 年代轉向其他應用領域。然而，到了 1990 年代末，經歷一系列挑戰後，他重新燃起對智能系統的熱情，並在機器學習和數據科學領域深耕超過 20 年。\n",
    "\n",
    "在此期間，他參與了各種創新項目，如基因演算法預測、生成式學習模型應用於油氣鑽探等，並將自己的專業知識轉化為多本著作，涵蓋增強/虛擬實境、遊戲音效設計，以及強化學習的智能代理開發等。他長年專注於編碼與研發，未曾想過未來能直接與 AI 以自然語言合作。\n",
    "\n",
    "然而，2022 年 11 月 ChatGPT 的誕生改變了一切，不僅改變了世界對 AI 的看法，也徹底轉變了他對 AI 系統能力的理解。智能代理不再是遙不可及的夢想，而是已經實現的現實。他的許多過去理論探討的智能系統，如今已變得切實可行。\n",
    "\n",
    "儘管 AI 代理技術的潛力巨大，許多組織仍對其採用持保留態度。作者認為，這並非出於恐懼，而是源於對該技術的理解不足。因此，本書的目的是幫助彌合這一知識鴻溝，讓 AI 代理變成人人都能運用的工具，使人們以尊重、負責任的態度與 AI 共存並協作。"
   ]
  },
  {
   "cell_type": "markdown",
   "metadata": {},
   "source": []
  },
  {
   "cell_type": "markdown",
   "metadata": {},
   "source": [
    "AI Agents in Action is about building and working with intelligent agent systems—not just creating autonomous entities but also developing agents that can effectively tackle and solve real-world problems. The book starts with the basics of working with large language models (LLMs) to build assistants, multi-agent systems, and agentic behavioral agents. From there, it explores the key components of agentic systems: retrieval systems for knowledge and memory augmentation, action and tool usage, reasoning, planning, evaluation, and feedback. The book demonstrates how these components empower agents to perform a wide range of complex tasks through practical examples.\n",
    "\n",
    "This journey isn’t just about technology; it’s about reimagining how we approach problem solving. I hope this book inspires you to see intelligent agents as partners in innovation, capable of transforming ideas into actions in ways that were once thought impossible. Together, we’ll explore how AI can augment human potential, enabling us to achieve far more than we could alone.\n",
    "\n",
    "Who should read this book\n",
    "\n",
    "This book is for anyone curious about intelligent agents and how to develop agentic systems—whether you’re building your first helpful assistant or diving deeper into complex multi-agent systems. No prior experience with agents, agentic systems, prompt engineering, or working with LLMs is required. All you need is a basic understanding of Python and familiarity with GitHub repositories. My goal is to make these concepts accessible and engaging, empowering anyone who wants to explore the world of AI agents to do so with confidence.\n",
    "\n",
    "xvii xviii\n",
    "\n",
    "ABOUT THIS BOOK\n",
    "\n",
    "Whether you’re a developer, researcher, or hobbyist or are simply intrigued by the possibilities of AI, this book is for you. I hope that in these pages you’ll find inspiration, practical guidance, and a new appreciation for the remarkable potential of intelligent agents. Let this book guide understanding, creating, and unleashing the power of AI agents in action."
   ]
  },
  {
   "cell_type": "markdown",
   "metadata": {},
   "source": []
  },
  {
   "cell_type": "markdown",
   "metadata": {},
   "source": [
    "摘要總結\n",
    "《AI Agents in Action》探討如何構建和運用智能代理系統，不僅限於創建自主實體，還涵蓋開發能夠解決現實問題的智能代理。書中從大型語言模型（LLMs）的基礎知識入手，指導讀者如何建立助手、多代理系統，以及具有行為能力的智能代理。接著，書中深入解析智能代理系統的關鍵組成部分，如知識檢索與記憶增強、行動與工具使用、推理、規劃、評估與反饋等，並透過實例展示這些元素如何賦能代理執行複雜任務。\n",
    "\n",
    "這不僅是技術性的探索，更是對問題解決方式的全新思考。作者希望這本書能激發讀者視 AI 代理為創新夥伴，將想法轉化為行動，拓展人類潛能，實現過去被認為不可能的成就。\n",
    "\n",
    "適合讀者\n",
    "本書適合任何對智能代理和代理系統開發感興趣的人，無論是想建立第一個 AI 助手，還是深入研究多代理系統。讀者不需要有代理系統、提示工程（prompt engineering）或 LLMs 相關經驗，只需具備基礎 Python 知識和對 GitHub 的基本操作理解。\n",
    "\n",
    "無論你是開發者、研究人員、愛好者，或只是對 AI 可能性感到好奇，本書都將提供靈感與實用指導，幫助你理解、創造並釋放 AI 代理的強大潛力。"
   ]
  },
  {
   "cell_type": "markdown",
   "metadata": {},
   "source": [
    "n8n 是一個強大的工作流程自動化工具，提供視覺化介面和廣泛的 API 整合，適合用於一般的自動化任務。然而，與專門設計的 AI Agent 框架如 BabyAGI、LangChain 和 Landing AI 的 VisionAgent 相比，n8n 在構建自主 AI Agent 方面可能存在一些限制。\n",
    "\n",
    "**n8n 的優勢：**\n",
    "- **視覺化工作流程設計：** n8n 的直觀介面使得用戶可以輕鬆地創建和管理自動化流程，無需深入的編碼知識。\n",
    "- **廣泛的整合能力：** n8n 支持多種第三方服務和 API，方便用戶將不同的工具和服務串聯起來。\n",
    "\n",
    "**n8n 的限制：**\n",
    "- **缺乏專門的 AI 功能：** 雖然 n8n 可以通過整合外部 AI 服務來實現基本的 AI 功能，但其本身並未針對 AI Agent 的開發進行優化。\n",
    "- **自主性有限：** n8n 更適合於預定義的工作流程，而非需要自主學習和決策的 AI Agent。\n",
    "\n",
    "**與其他 AI Agent 框架的比較：**\n",
    "\n",
    "- **BabyAGI：** 專注於自主任務生成和執行，能夠根據給定的目標自動創建和管理任務列表，並具備持續學習和適應能力。\n",
    "\n",
    "- **LangChain：** 提供構建大型語言模型（LLM）應用的框架，支持記憶管理、多代理協作等功能，適合開發需要深度語言理解的 AI Agent。\n",
    "\n",
    "- **Landing AI 的 VisionAgent：** 專為計算機視覺任務設計，利用代理框架自動生成解決方案代碼，適合需要處理視覺數據的應用。\n",
    "\n",
    "**結論：**\n",
    "如果您的目標是構建具有高度自主性和專門功能的 AI Agent，特別是在需要深度學習和持續適應的情境下，BabyAGI、LangChain 或 VisionAgent 可能更為適合。然而，如果您需要的是一個強大的工作流程自動化工具，並希望通過整合外部 AI 服務來實現基本的 AI 功能，n8n 仍然是一個不錯的選擇。\n",
    "\n",
    "值得注意的是，n8n 也在不斷發展，並開始引入與 AI 相關的功能。例如，n8n 的 AI Agent 節點允許用戶在工作流程中集成 AI 模型，這使得 n8n 在某些情境下能夠提供基本的 AI Agent 功能。 citeturn0search3\n",
    "\n",
    "總的來說，選擇哪種工具取決於您的具體需求和技術背景。如果您需要高度定制化和專業化的 AI Agent，專門的框架可能更為適合；如果您尋求的是靈活且易於使用的自動化解決方案，n8n 則是一個值得考慮的選項。 "
   ]
  },
  {
   "cell_type": "markdown",
   "metadata": {},
   "source": []
  }
 ],
 "metadata": {
  "kernelspec": {
   "display_name": "ml-test1",
   "language": "python",
   "name": "python3"
  },
  "language_info": {
   "name": "python",
   "version": "3.11.8"
  }
 },
 "nbformat": 4,
 "nbformat_minor": 2
}
